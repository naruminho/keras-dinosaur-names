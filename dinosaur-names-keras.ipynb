{
 "cells": [
  {
   "cell_type": "code",
   "execution_count": 1,
   "metadata": {},
   "outputs": [
    {
     "name": "stderr",
     "output_type": "stream",
     "text": [
      "Using TensorFlow backend.\n"
     ]
    }
   ],
   "source": [
    "import numpy as np\n",
    "import pandas as pd \n",
    "import random\n",
    "import re\n",
    "from sklearn.feature_extraction.text import CountVectorizer\n",
    "from keras.preprocessing.text import Tokenizer\n",
    "from keras.preprocessing.sequence import pad_sequences\n",
    "from keras.models import Sequential\n",
    "from keras.layers import Dense, Embedding, LSTM\n",
    "from sklearn.model_selection import train_test_split\n",
    "from keras.utils.np_utils import to_categorical\n",
    "from keras.optimizers import Adam,RMSprop\n",
    "from functools import reduce"
   ]
  },
  {
   "cell_type": "code",
   "execution_count": 2,
   "metadata": {},
   "outputs": [
    {
     "name": "stdout",
     "output_type": "stream",
     "text": [
      "There are 20969 total characters and 27 unique characters in your data.\n"
     ]
    }
   ],
   "source": [
    "data = open('dinos.txt', 'r').read()\n",
    "chars = list(set(data.lower()))\n",
    "ctoi = { ch:i for i,ch in enumerate(sorted(chars)) }\n",
    "itoc = { i:ch for i,ch in enumerate(sorted(chars)) }\n",
    "data_size, vocab_size = len(data), len(chars)\n",
    "print('There are %d total characters and %d unique characters in your data.' % (data_size, vocab_size))"
   ]
  },
  {
   "cell_type": "code",
   "execution_count": 3,
   "metadata": {},
   "outputs": [],
   "source": [
    "with open(\"dinos.txt\") as f:\n",
    "        examples = f.readlines()\n",
    "\n",
    "examples = [x.lower().strip() for x in examples]\n",
    "np.random.seed(0)\n",
    "np.random.shuffle(examples)\n",
    "\n",
    "# maxlen is the length of longest word in examples\n",
    "maxlen = reduce((lambda x, y: max(x,y)), map(lambda x: len(x), examples))\n",
    "\n",
    "x = np.zeros((len(examples), maxlen, len(chars)), dtype=np.int)\n",
    "y = np.zeros((len(examples), maxlen, len(chars)), dtype=np.int)\n",
    "for j in range(len(examples)):\n",
    "    x[j][0][ctoi[\"\\n\"]] = 1\n",
    "    for k in range(1,maxlen):\n",
    "        if k <= len(examples[j]):\n",
    "            x[j][k][ctoi[examples[j][k-1]]] = 1\n",
    "        else:\n",
    "            x[j][k][ctoi[\"\\n\"]] = 1\n",
    "       \n",
    "    for k in range(0,maxlen-2):\n",
    "        y[j][k] = x[j][k+1]\n",
    "        \n",
    "    y[j][maxlen-1][ctoi[\"\\n\"]] = 1\n",
    "    \n",
    "def sample(preds, temperature=1.0):\n",
    "    # helper function to sample an index from a probability array\n",
    "    preds = np.asarray(preds).astype('float64')\n",
    "    preds = np.log(preds) / temperature\n",
    "    exp_preds = np.exp(preds)\n",
    "    preds = exp_preds / np.sum(exp_preds)\n",
    "    probas = np.random.multinomial(1, preds, 1)\n",
    "    return np.argmax(probas)"
   ]
  },
  {
   "cell_type": "code",
   "execution_count": 4,
   "metadata": {},
   "outputs": [
    {
     "name": "stdout",
     "output_type": "stream",
     "text": [
      "_________________________________________________________________\n",
      "Layer (type)                 Output Shape              Param #   \n",
      "=================================================================\n",
      "lstm_1 (LSTM)                (None, 25, 200)           182400    \n",
      "_________________________________________________________________\n",
      "dense_1 (Dense)              (None, 25, 27)            5427      \n",
      "=================================================================\n",
      "Total params: 187,827\n",
      "Trainable params: 187,827\n",
      "Non-trainable params: 0\n",
      "_________________________________________________________________\n",
      "None\n"
     ]
    }
   ],
   "source": [
    "lstm_out = 200\n",
    "batch_size = 32\n",
    "\n",
    "optimizer = Adam(lr=0.01,clipvalue=0.5)\n",
    "model = Sequential()\n",
    "model.add(LSTM(lstm_out,  input_shape = (maxlen,vocab_size),recurrent_dropout = 0.2, return_sequences=True))\n",
    "model.add(Dense(vocab_size,activation='softmax'))\n",
    "model.compile(loss = 'categorical_crossentropy', optimizer=optimizer ,metrics = ['accuracy'])\n",
    "print(model.summary())"
   ]
  },
  {
   "cell_type": "code",
   "execution_count": 5,
   "metadata": {
    "scrolled": true
   },
   "outputs": [
    {
     "name": "stdout",
     "output_type": "stream",
     "text": [
      "Epoch 1/50\n",
      "1623/1623 [==============================] - 2s 1ms/step - loss: 1.5984 - acc: 0.5578\n",
      "Epoch 2/50\n",
      "1623/1623 [==============================] - 1s 603us/step - loss: 1.1076 - acc: 0.6804\n",
      "Epoch 3/50\n",
      "1623/1623 [==============================] - 1s 620us/step - loss: 0.9534 - acc: 0.7173\n",
      "Epoch 4/50\n",
      "1623/1623 [==============================] - 1s 607us/step - loss: 0.8950 - acc: 0.7323\n",
      "Epoch 5/50\n",
      "1623/1623 [==============================] - 1s 607us/step - loss: 0.8533 - acc: 0.7453\n",
      "Epoch 6/50\n",
      "1623/1623 [==============================] - 1s 609us/step - loss: 0.8242 - acc: 0.7526\n",
      "Epoch 7/50\n",
      "1623/1623 [==============================] - 1s 609us/step - loss: 0.7949 - acc: 0.7605\n",
      "Epoch 8/50\n",
      "1623/1623 [==============================] - 1s 610us/step - loss: 0.7763 - acc: 0.7645\n",
      "Epoch 9/50\n",
      "1623/1623 [==============================] - 1s 610us/step - loss: 0.7555 - acc: 0.7690\n",
      "Epoch 10/50\n",
      "1623/1623 [==============================] - 1s 616us/step - loss: 0.7311 - acc: 0.7749\n",
      "Epoch 11/50\n",
      "1623/1623 [==============================] - 1s 607us/step - loss: 0.7110 - acc: 0.7819\n",
      "Epoch 12/50\n",
      "1623/1623 [==============================] - 1s 607us/step - loss: 0.6897 - acc: 0.7875\n",
      "Epoch 13/50\n",
      "1623/1623 [==============================] - 1s 615us/step - loss: 0.6722 - acc: 0.7905\n",
      "Epoch 14/50\n",
      "1623/1623 [==============================] - 1s 604us/step - loss: 0.6523 - acc: 0.7964\n",
      "Epoch 15/50\n",
      "1623/1623 [==============================] - 1s 612us/step - loss: 0.6353 - acc: 0.8010\n",
      "Epoch 16/50\n",
      "1623/1623 [==============================] - 1s 605us/step - loss: 0.6147 - acc: 0.8048\n",
      "Epoch 17/50\n",
      "1623/1623 [==============================] - 1s 608us/step - loss: 0.6045 - acc: 0.8084\n",
      "Epoch 18/50\n",
      "1623/1623 [==============================] - 1s 608us/step - loss: 0.5851 - acc: 0.8148\n",
      "Epoch 19/50\n",
      "1623/1623 [==============================] - 1s 615us/step - loss: 0.5732 - acc: 0.8169\n",
      "Epoch 20/50\n",
      "1623/1623 [==============================] - 1s 635us/step - loss: 0.5595 - acc: 0.8213\n",
      "Epoch 21/50\n",
      "1623/1623 [==============================] - 1s 604us/step - loss: 0.5502 - acc: 0.8224\n",
      "Epoch 22/50\n",
      "1623/1623 [==============================] - 1s 636us/step - loss: 0.5368 - acc: 0.8267\n",
      "Epoch 23/50\n",
      "1623/1623 [==============================] - 1s 616us/step - loss: 0.5287 - acc: 0.8291\n",
      "Epoch 24/50\n",
      "1623/1623 [==============================] - 1s 603us/step - loss: 0.5183 - acc: 0.8325\n",
      "Epoch 25/50\n",
      "1623/1623 [==============================] - 1s 596us/step - loss: 0.5162 - acc: 0.8327\n",
      "Epoch 26/50\n",
      "1623/1623 [==============================] - 1s 601us/step - loss: 0.5040 - acc: 0.8364\n",
      "Epoch 27/50\n",
      "1623/1623 [==============================] - 1s 610us/step - loss: 0.4987 - acc: 0.8382\n",
      "Epoch 28/50\n",
      "1623/1623 [==============================] - 1s 619us/step - loss: 0.4882 - acc: 0.8416\n",
      "Epoch 29/50\n",
      "1623/1623 [==============================] - 1s 599us/step - loss: 0.4832 - acc: 0.8418\n",
      "Epoch 30/50\n",
      "1623/1623 [==============================] - 1s 598us/step - loss: 0.4734 - acc: 0.8469\n",
      "Epoch 31/50\n",
      "1623/1623 [==============================] - 1s 604us/step - loss: 0.4731 - acc: 0.8442\n",
      "Epoch 32/50\n",
      "1623/1623 [==============================] - 1s 596us/step - loss: 0.4632 - acc: 0.8478\n",
      "Epoch 33/50\n",
      "1623/1623 [==============================] - 1s 596us/step - loss: 0.4592 - acc: 0.8493\n",
      "Epoch 34/50\n",
      "1623/1623 [==============================] - 1s 595us/step - loss: 0.4584 - acc: 0.8496\n",
      "Epoch 35/50\n",
      "1623/1623 [==============================] - 1s 596us/step - loss: 0.4514 - acc: 0.8503\n",
      "Epoch 36/50\n",
      "1623/1623 [==============================] - 1s 596us/step - loss: 0.4464 - acc: 0.8523\n",
      "Epoch 37/50\n",
      "1623/1623 [==============================] - 1s 596us/step - loss: 0.4449 - acc: 0.8537\n",
      "Epoch 38/50\n",
      "1623/1623 [==============================] - 1s 595us/step - loss: 0.4422 - acc: 0.8538\n",
      "Epoch 39/50\n",
      "1623/1623 [==============================] - 1s 599us/step - loss: 0.4370 - acc: 0.8569\n",
      "Epoch 40/50\n",
      "1623/1623 [==============================] - 1s 601us/step - loss: 0.4312 - acc: 0.8590\n",
      "Epoch 41/50\n",
      "1623/1623 [==============================] - 1s 598us/step - loss: 0.4294 - acc: 0.8579\n",
      "Epoch 42/50\n",
      "1623/1623 [==============================] - 1s 596us/step - loss: 0.4284 - acc: 0.8588\n",
      "Epoch 43/50\n",
      "1623/1623 [==============================] - 1s 597us/step - loss: 0.4252 - acc: 0.8597\n",
      "Epoch 44/50\n",
      "1623/1623 [==============================] - 1s 594us/step - loss: 0.4237 - acc: 0.8590\n",
      "Epoch 45/50\n",
      "1623/1623 [==============================] - 1s 599us/step - loss: 0.4216 - acc: 0.8614\n",
      "Epoch 46/50\n",
      "1623/1623 [==============================] - 1s 596us/step - loss: 0.4203 - acc: 0.8609\n",
      "Epoch 47/50\n",
      "1623/1623 [==============================] - 1s 595us/step - loss: 0.4208 - acc: 0.8605\n",
      "Epoch 48/50\n",
      "1623/1623 [==============================] - 1s 597us/step - loss: 0.4167 - acc: 0.8625\n",
      "Epoch 49/50\n",
      "1623/1623 [==============================] - 1s 595us/step - loss: 0.4147 - acc: 0.8629\n",
      "Epoch 50/50\n",
      "1623/1623 [==============================] - 1s 595us/step - loss: 0.4146 - acc: 0.8626\n"
     ]
    }
   ],
   "source": [
    "results = model.fit(x, y, epochs=50, verbose=1)"
   ]
  },
  {
   "cell_type": "code",
   "execution_count": 100,
   "metadata": {},
   "outputs": [
    {
     "name": "stdout",
     "output_type": "stream",
     "text": [
      "marosaurus\n",
      "\n"
     ]
    }
   ],
   "source": [
    "test = np.zeros((maxlen,vocab_size))\n",
    "\n",
    "for i in range(0,maxlen):\n",
    "    start_letter = np.random.randint(1, vocab_size)\n",
    "    test[i][start_letter] = 1\n",
    "    if i == 0:\n",
    "        first = itoc[start_letter]\n",
    "        print(first,end='')\n",
    "\n",
    "\n",
    "test = np.reshape(test, (1, maxlen, len(chars)))\n",
    "\n",
    "out = \"\"\n",
    "prediction = model.predict(test, verbose=0)\n",
    "index = sample(prediction[0][0],0.1)\n",
    "out= out + itoc[index]\n",
    "for i in range(1,maxlen-1):\n",
    "    prediction = model.predict(test, verbose=0)\n",
    "    index = sample(prediction[0][i],0.5)\n",
    "    out= out + itoc[index]\n",
    "    test[0][i+1] = prediction[0][i]\n",
    "    if itoc[index] == \"\\n\":\n",
    "        print(out)\n",
    "        break"
   ]
  }
 ],
 "metadata": {
  "coursera": {
   "course_slug": "nlp-sequence-models",
   "graded_item_id": "1dYg0",
   "launcher_item_id": "MLhxP"
  },
  "kernelspec": {
   "display_name": "Python 3",
   "language": "python",
   "name": "python3"
  },
  "language_info": {
   "codemirror_mode": {
    "name": "ipython",
    "version": 3
   },
   "file_extension": ".py",
   "mimetype": "text/x-python",
   "name": "python",
   "nbconvert_exporter": "python",
   "pygments_lexer": "ipython3",
   "version": "3.6.5"
  }
 },
 "nbformat": 4,
 "nbformat_minor": 2
}
